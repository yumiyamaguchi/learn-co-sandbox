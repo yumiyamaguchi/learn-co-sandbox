{
  "nbformat": 4,
  "nbformat_minor": 0,
  "metadata": {
    "colab": {
      "name": "Attendee Intro to Python Fundamentals.ipynb",
      "provenance": [],
      "collapsed_sections": [],
      "include_colab_link": true
    },
    "kernelspec": {
      "name": "python3",
      "display_name": "Python 3"
    }
  },
  "cells": [
    {
      "cell_type": "markdown",
      "metadata": {
        "id": "view-in-github",
        "colab_type": "text"
      },
      "source": [
        "<a href=\"https://colab.research.google.com/github/yumiyamaguchi/learn-co-sandbox/blob/master/Attendee_Intro_to_Python_Fundamentals.ipynb\" target=\"_parent\"><img src=\"https://colab.research.google.com/assets/colab-badge.svg\" alt=\"Open In Colab\"/></a>"
      ]
    },
    {
      "cell_type": "markdown",
      "metadata": {
        "id": "ZTcoWIZfIovw",
        "colab_type": "text"
      },
      "source": [
        "# Intro to Python Fundamentals\n",
        "\n",
        "\n",
        "- Throughout this notebook we will be exploring base Python concepts and applying them in small practice problems.\n",
        "- Anytime you see a line surrounded by triple asterisks, `***LIKE THIS***`, that is a line of code that you will need to replace or edit.\n",
        "- Have fun and good luck coding!"
      ]
    },
    {
      "cell_type": "markdown",
      "metadata": {
        "id": "G5lroUmBm77G",
        "colab_type": "text"
      },
      "source": [
        "> To execute a line or block of code, simply click the \"Play\" button on the left side or use the keyboard shortcut \"Shift + Enter\"\n",
        "> When that code block has actually been executed, the blank brackets will change to have a number inside of them."
      ]
    },
    {
      "cell_type": "code",
      "metadata": {
        "id": "oW5-mMzgm85H",
        "colab_type": "code",
        "colab": {}
      },
      "source": [
        "x = ***EDIT THIS CODE***\n",
        "print(x)"
      ],
      "execution_count": 0,
      "outputs": []
    },
    {
      "cell_type": "markdown",
      "metadata": {
        "id": "ulmFmPdbJJ7w",
        "colab_type": "text"
      },
      "source": [
        "___\n",
        "## First lines of code:\n",
        "Printing `\"Hello, World!\"` and reviewing the Zen of Python are traditionally two of the first tasks for a new Python programmer, so let's do those together here:"
      ]
    },
    {
      "cell_type": "markdown",
      "metadata": {
        "id": "uwUSbA1yKe-H",
        "colab_type": "text"
      },
      "source": [
        "- We use `print` statements any time we want to display information to the console."
      ]
    },
    {
      "cell_type": "code",
      "metadata": {
        "id": "RaGYNWB2GnYf",
        "colab_type": "code",
        "colab": {}
      },
      "source": [
        "print(\"Hello, World!\")"
      ],
      "execution_count": 0,
      "outputs": []
    },
    {
      "cell_type": "markdown",
      "metadata": {
        "id": "srpcy_IqKiCN",
        "colab_type": "text"
      },
      "source": [
        "- The Zen of Python is a collection of 19 \"guiding principles\" for writing computer programs that influence the design of the Python programming language. Software engineer Tim Peters wrote this set of principles and posted it on the Python mailing list in 1999."
      ]
    },
    {
      "cell_type": "code",
      "metadata": {
        "id": "AQ4FEDbHJybj",
        "colab_type": "code",
        "colab": {}
      },
      "source": [
        "import this"
      ],
      "execution_count": 0,
      "outputs": []
    },
    {
      "cell_type": "markdown",
      "metadata": {
        "id": "v3ToTbJdKq-J",
        "colab_type": "text"
      },
      "source": [
        "___\n",
        "## Variables, Lists, and Dictionaries:\n",
        "Now that we're officially Python programmers, let's visit some of the core building blocks of Python."
      ]
    },
    {
      "cell_type": "markdown",
      "metadata": {
        "id": "l6uUmBk-Lkjs",
        "colab_type": "text"
      },
      "source": [
        "### Variables\n",
        "\n",
        "- Variables are reserved memory locations to store values. This means that when you create a variable (by using the ''`=`'' assignment operator) you reserve some space in memory for that particular piece of information.\n",
        "- The data type of a variable will dictate what kinds of manipulations we can do with it.\n",
        "- When naming our variables, we want to be concise but give some indication about their information or structure.\n",
        "\n",
        ">> *Let's create a variable called `my_name` and fill it with a string value of your name:*"
      ]
    },
    {
      "cell_type": "code",
      "metadata": {
        "id": "0WrFwxduJ1mQ",
        "colab_type": "code",
        "colab": {}
      },
      "source": [
        "my_name = '***EDIT THIS STRING***'\n",
        "meaning_of_life = 42\n",
        "\n",
        "print(my_name, meaning_of_life)"
      ],
      "execution_count": 0,
      "outputs": []
    },
    {
      "cell_type": "code",
      "metadata": {
        "id": "mjS3QPHrxzEB",
        "colab_type": "code",
        "colab": {}
      },
      "source": [
        "# We can always check the data type of any variable with the built-in `type` function\n",
        "print(type(my_name), type(meaning_of_life))"
      ],
      "execution_count": 0,
      "outputs": []
    },
    {
      "cell_type": "code",
      "metadata": {
        "id": "9TKWzl5zyodc",
        "colab_type": "code",
        "colab": {}
      },
      "source": [
        "# We can also generate more customized `print` statements\n",
        "print(\"{}'s favorite number is {}!\".format(my_name, meaning_of_life))"
      ],
      "execution_count": 0,
      "outputs": []
    },
    {
      "cell_type": "markdown",
      "metadata": {
        "id": "8HAKfgo2wYZj",
        "colab_type": "text"
      },
      "source": [
        "**String-Specific Functions**\n",
        "- If we have a string, there are some specific functions that we can use to manipulate it.\n",
        "- We'll take a look at some ways we can manipulate strings below.\n",
        "- For a more comprehensive list, check out this [documentation](https://www.programiz.com/python-programming/methods/string)."
      ]
    },
    {
      "cell_type": "code",
      "metadata": {
        "id": "KznXjeva08gO",
        "colab_type": "code",
        "colab": {}
      },
      "source": [
        "# We can \"concatenate\" strings or \"add\" them together\n",
        "full_name = my_name + ' ' + '***EDIT THIS STRING***'\n",
        "print(full_name)"
      ],
      "execution_count": 0,
      "outputs": []
    },
    {
      "cell_type": "code",
      "metadata": {
        "id": "9vDXUrEowIgS",
        "colab_type": "code",
        "colab": {}
      },
      "source": [
        "# We can make a string all lower case or upper case\n",
        "print(my_name.lower(), my_name.upper())"
      ],
      "execution_count": 0,
      "outputs": []
    },
    {
      "cell_type": "code",
      "metadata": {
        "id": "5VYC9VMT1N_c",
        "colab_type": "code",
        "colab": {}
      },
      "source": [
        "# We can split strings on certain characters\n",
        "full_name.split(' ')"
      ],
      "execution_count": 0,
      "outputs": []
    },
    {
      "cell_type": "code",
      "metadata": {
        "id": "te8o2j2H00YT",
        "colab_type": "code",
        "colab": {}
      },
      "source": [
        "# Or replace specific characters\n",
        "full_name.replace('o', '***EDIT THIS STRING***')"
      ],
      "execution_count": 0,
      "outputs": []
    },
    {
      "cell_type": "markdown",
      "metadata": {
        "id": "Yl1k4UnH3p3i",
        "colab_type": "text"
      },
      "source": [
        "**Numeric-Specific Functions**\n",
        "- If we have a number value, there are _other_ specific functions that we can use to manipulate it.\n",
        "- We'll take a look at some mathematical operators below.\n",
        "- For a more comprehensive list, check out _this_ [reference](https://www.digitalocean.com/community/tutorials/how-to-do-math-in-python-3-with-operators)."
      ]
    },
    {
      "cell_type": "code",
      "metadata": {
        "id": "Ou5JA_GK4Ewf",
        "colab_type": "code",
        "colab": {}
      },
      "source": [
        "# We can do some basic arithmetic\n",
        "x = 9\n",
        "y = 2\n",
        "\n",
        "print('Sum:', x+y)\n",
        "print('Difference:', x-y)\n",
        "print('Product:', x*y)\n",
        "print('Quotient:', x/y)"
      ],
      "execution_count": 0,
      "outputs": []
    },
    {
      "cell_type": "code",
      "metadata": {
        "id": "HmuiLBPc7HFD",
        "colab_type": "code",
        "colab": {}
      },
      "source": [
        "# We can also work with exponents and remainders\n",
        "\n",
        "print('x to the power of y:', x**y)\n",
        "print('Remainder of x divided by y:', x%y)"
      ],
      "execution_count": 0,
      "outputs": []
    },
    {
      "cell_type": "code",
      "metadata": {
        "id": "pxoPwv9l0ufL",
        "colab_type": "code",
        "colab": {}
      },
      "source": [
        "# Compound operators \n",
        "# update variable state\n",
        "\n",
        "original = 5\n",
        "original += 3\n",
        "print(original)\n",
        "original *= 2\n",
        "print(original)"
      ],
      "execution_count": 0,
      "outputs": []
    },
    {
      "cell_type": "markdown",
      "metadata": {
        "id": "4kWCMrvNLqSL",
        "colab_type": "text"
      },
      "source": [
        "___\n",
        "### Lists\n",
        "\n",
        "- Lists are used to store a collection of data in an ordered sequence.\n",
        "- List items can be of different data types.\n",
        "- To create a list, we use square brackets `[]` and fill the brackets with items in the list separated by commas.\n",
        "\n",
        ">> *Let's create a list called `pizza_toppings` and fill it with strings of our favorite ingredients:*"
      ]
    },
    {
      "cell_type": "code",
      "metadata": {
        "id": "n9Qr78UhLtQv",
        "colab_type": "code",
        "colab": {}
      },
      "source": [
        "pizza_toppings = ['pepperoni', 'pineapple', 'extra cheese']\n",
        "print(pizza_toppings)"
      ],
      "execution_count": 0,
      "outputs": []
    },
    {
      "cell_type": "code",
      "metadata": {
        "id": "D556faD_2kxd",
        "colab_type": "code",
        "colab": {}
      },
      "source": [
        "# Checking the type\n",
        "type(pizza_toppings)"
      ],
      "execution_count": 0,
      "outputs": []
    },
    {
      "cell_type": "markdown",
      "metadata": {
        "id": "5lddZlrSMt9X",
        "colab_type": "text"
      },
      "source": [
        "**Accessing and Updating Lists**\n",
        "- List contents are accessed by index using bracket notation `[]` — you can access an item in a list by asking for the item in a given position.\n",
        "- We can also use bracket notation to reassign or update items in a list.\n",
        "- Accessing multiple items in a list is called slicing — we do this using bracket notation and two indices separated by a colon `:`.\n",
        "\n",
        ">> _Let's take a look at some examples of each of those below:_"
      ]
    },
    {
      "cell_type": "code",
      "metadata": {
        "id": "J8MEh-QwMudA",
        "colab_type": "code",
        "colab": {}
      },
      "source": [
        "# Getting the first element in a list\n",
        "pizza_toppings[0]"
      ],
      "execution_count": 0,
      "outputs": []
    },
    {
      "cell_type": "code",
      "metadata": {
        "id": "qgi3U4RS4WYl",
        "colab_type": "code",
        "colab": {}
      },
      "source": [
        "# Upgrading 'pineapple' to topping of your choice\n",
        "pizza_toppings[1] = '***EDIT THIS STRING***'\n",
        "pizza_toppings"
      ],
      "execution_count": 0,
      "outputs": []
    },
    {
      "cell_type": "code",
      "metadata": {
        "id": "Zno1ed654qvV",
        "colab_type": "code",
        "colab": {}
      },
      "source": [
        "# Looking at multiple items at a time\n",
        "pizza_toppings[0:2]"
      ],
      "execution_count": 0,
      "outputs": []
    },
    {
      "cell_type": "code",
      "metadata": {
        "id": "ScB92vpm4w1t",
        "colab_type": "code",
        "colab": {}
      },
      "source": [
        "# One cool little trick with slicing\n",
        "pizza_toppings[::-1]"
      ],
      "execution_count": 0,
      "outputs": []
    },
    {
      "cell_type": "markdown",
      "metadata": {
        "id": "w2N0XS89lvhW",
        "colab_type": "text"
      },
      "source": [
        "**List Challenge!**\n",
        "- Make a new list called `stoplight_colors`\n",
        "- Fill it with the following strings:\n",
        "  - `“Green”`\n",
        "  - `“Yellow”`\n",
        "  - `“Broken”`\n",
        "- Using indexing, update `“Broken”` to `“Red”`\n",
        "- `Print` the updated list to confirm the change"
      ]
    },
    {
      "cell_type": "code",
      "metadata": {
        "id": "Odjy4IfdlwAD",
        "colab_type": "code",
        "colab": {}
      },
      "source": [
        "# Add your Challenge code here!\n",
        "\n"
      ],
      "execution_count": 0,
      "outputs": []
    },
    {
      "cell_type": "markdown",
      "metadata": {
        "id": "afYuD1NELt3w",
        "colab_type": "text"
      },
      "source": [
        "___\n",
        "### Dictionaries\n",
        "\n",
        "- Dictionaries allow you to store data as an unordered collection of `key:value` pairs.\n",
        "  - Looking up or setting values by key rather than by index has different performance implications.\n",
        "  - Writing code that refers to data by name rather than by index number can be much clearer and easier to understand.\n",
        "- We create a dictionary with curly braces `{}` and fill it with `key:value` pairs, with each **pair** separated by a comma.\n",
        "\n",
        "> *Let's create a list called `groceries` and fill it with strings and quantities of some foods we might have around the house:*"
      ]
    },
    {
      "cell_type": "code",
      "metadata": {
        "id": "lmOlOoWXLwOW",
        "colab_type": "code",
        "colab": {}
      },
      "source": [
        "groceries = {\n",
        "    'apples': 4,\n",
        "    'bananas': 6,\n",
        "    'cookies': 3\n",
        "}"
      ],
      "execution_count": 0,
      "outputs": []
    },
    {
      "cell_type": "code",
      "metadata": {
        "id": "jlo2iTTA60f_",
        "colab_type": "code",
        "colab": {}
      },
      "source": [
        "# Checking the type\n",
        "type(groceries)"
      ],
      "execution_count": 0,
      "outputs": []
    },
    {
      "cell_type": "markdown",
      "metadata": {
        "id": "MP0acsxyMqrH",
        "colab_type": "text"
      },
      "source": [
        "**Accessing and Updating Dictionaries**\n",
        "- Dictionary values are accessed using bracket notation `[]`, just like with lists and strings, except that instead of using an index number you use a key.\n",
        "- Updating the value associated with a key looks very much like assigning a value to a variable — again, we'll use bracket notation `[]` and the assignment operator `=` to accomplish this.\n",
        "  - This is also how we create new pairs in the dictionary.\n",
        "- We can also do quick membership checks using `in` and `not in`.\n",
        "\n",
        ">> _Let's take a look at some examples of each of those below:_"
      ]
    },
    {
      "cell_type": "code",
      "metadata": {
        "id": "wR74ZzDqMs4C",
        "colab_type": "code",
        "colab": {}
      },
      "source": [
        "# Checking a single value\n",
        "groceries['apples']"
      ],
      "execution_count": 0,
      "outputs": []
    },
    {
      "cell_type": "code",
      "metadata": {
        "id": "SarUGoNf98As",
        "colab_type": "code",
        "colab": {}
      },
      "source": [
        "# Updating a value\n",
        "groceries['apples'] += 4\n",
        "groceries"
      ],
      "execution_count": 0,
      "outputs": []
    },
    {
      "cell_type": "code",
      "metadata": {
        "id": "fKCnlUiD-KLB",
        "colab_type": "code",
        "colab": {}
      },
      "source": [
        "# Adding a new pair\n",
        "groceries['***EDIT THIS KEY***'] = ***EDIT THIS VALUE***\n",
        "groceries"
      ],
      "execution_count": 0,
      "outputs": []
    },
    {
      "cell_type": "code",
      "metadata": {
        "id": "9KWL_Vvg-Tr9",
        "colab_type": "code",
        "colab": {}
      },
      "source": [
        "# Checking for membership\n",
        "print('apples' in groceries)\n",
        "print('watermelons' in groceries)"
      ],
      "execution_count": 0,
      "outputs": []
    },
    {
      "cell_type": "markdown",
      "metadata": {
        "id": "w90v73nDn07q",
        "colab_type": "text"
      },
      "source": [
        "**Dictionary Challenge!**\n",
        "- Take our `groceries` dictionary\n",
        "- Add a new key:value pair of your choice\n",
        "- Delete the `“apples”` item from the dictionary entirely (you may need to use Google!)\n",
        "- Eat 2 cookies (subtract 2 cookies from the inventory)\n",
        "- Print out the dictionary to confirm the changes"
      ]
    },
    {
      "cell_type": "code",
      "metadata": {
        "id": "aD_Oni7Cn1QP",
        "colab_type": "code",
        "colab": {}
      },
      "source": [
        "# Add your Challenge code here!\n",
        "\n"
      ],
      "execution_count": 0,
      "outputs": []
    },
    {
      "cell_type": "markdown",
      "metadata": {
        "id": "QqZhhZ5JL3YP",
        "colab_type": "text"
      },
      "source": [
        "___\n",
        "## Functions:\n",
        "- Functions are going to be an integral part of your workflow as a Python programmer.\n",
        "- Functions let you write a block of organized, reusable code that is used to perform a single, related action.\n",
        "- You define that behavior once, and you can run and re-run your set of instructions whenever and as many times as you need.\n",
        "\n",
        ">> _Let's start with a basic function first and move on to some more complicated ones:_"
      ]
    },
    {
      "cell_type": "code",
      "metadata": {
        "id": "q1dV-rodMigw",
        "colab_type": "code",
        "colab": {}
      },
      "source": [
        "# Defining our function\n",
        "def hello(name):\n",
        "  print(\"Hello \" + name)\n",
        "  \n",
        "# \"Calling\" or executing our function\n",
        "hello(name = '***EDIT THIS STRING***')"
      ],
      "execution_count": 0,
      "outputs": []
    },
    {
      "cell_type": "code",
      "metadata": {
        "id": "ijeG2v9DEGtp",
        "colab_type": "code",
        "colab": {}
      },
      "source": [
        "# Using variables as parameters instead of explicit strings\n",
        "some_other_name = \"Guido\"\n",
        "hello(name= some_other_name)"
      ],
      "execution_count": 0,
      "outputs": []
    },
    {
      "cell_type": "markdown",
      "metadata": {
        "id": "tm_HRS6-Mn_D",
        "colab_type": "text"
      },
      "source": [
        ">> So far we've been using `print` statements within a function to print something to the console — just showing the user (us) a string representing what is going on inside the computer. The other statement that you will see and utilize is `return`.\n",
        "- `return` is the main way that a function returns a value.\n",
        "- All functions will return a value, and if there is no `return` statement it will return `None`.\n",
        "- The value that is returned by a function can then be further used as an argument passed to another function, stored as a variable, or just printed for the benefit of the human user."
      ]
    },
    {
      "cell_type": "code",
      "metadata": {
        "id": "cxYYshbPMpMn",
        "colab_type": "code",
        "colab": {}
      },
      "source": [
        "# Examples showing the difference between `print` and `return`\n",
        "\n",
        "def function_that_prints():\n",
        "    print(\"Printer is out of ink...\")\n",
        "\n",
        "first = function_that_prints()\n",
        "\n",
        "print(\"The value of first is:\", first)\n",
        "print(first)\n"
      ],
      "execution_count": 0,
      "outputs": []
    },
    {
      "cell_type": "code",
      "metadata": {
        "id": "TckJr8DJtc52",
        "colab_type": "code",
        "colab": {}
      },
      "source": [
        "def function_that_returns():\n",
        "    return \"Return of the Function!\"\n",
        "  \n",
        "second = function_that_returns()\n",
        "\n",
        "print(\"The value of second is:\", second)\n",
        "print(second)"
      ],
      "execution_count": 0,
      "outputs": []
    },
    {
      "cell_type": "markdown",
      "metadata": {
        "id": "V4pl_VXKsFJU",
        "colab_type": "text"
      },
      "source": [
        ">> **Let's build out our understanding with an example here:**"
      ]
    },
    {
      "cell_type": "code",
      "metadata": {
        "id": "XDrC8K78HQMh",
        "colab_type": "code",
        "colab": {}
      },
      "source": [
        "def far_to_cel(fahrenheit):\n",
        "  celsius = int((fahrenheit - 32) / 1.8)\n",
        "  return celsius"
      ],
      "execution_count": 0,
      "outputs": []
    },
    {
      "cell_type": "code",
      "metadata": {
        "id": "3TY2AWWjIyh3",
        "colab_type": "code",
        "colab": {}
      },
      "source": [
        "# Printing resulting values\n",
        "\n",
        "print(far_to_cel(50))\n",
        "new_temp = 85\n",
        "print(far_to_cel(new_temp))"
      ],
      "execution_count": 0,
      "outputs": []
    },
    {
      "cell_type": "code",
      "metadata": {
        "id": "As3MrZsvI8nr",
        "colab_type": "code",
        "colab": {}
      },
      "source": [
        "# Saving the values that have been returned as new variables\n",
        "\n",
        "winter_temp = far_to_cel(30)\n",
        "summer_temp = far_to_cel(90)\n",
        "\n",
        "diff_summer_winter = summer_temp - winter_temp\n",
        "print(diff_summer_winter)"
      ],
      "execution_count": 0,
      "outputs": []
    },
    {
      "cell_type": "markdown",
      "metadata": {
        "id": "41CowmoRosMa",
        "colab_type": "text"
      },
      "source": [
        "**Function Challenge!**\n",
        "- Define a new function called `circumference`\n",
        "- It should take one argument (`radius`)\n",
        "- Given the radius provided, perform the necessary calculation and store it internally in a variable called `cir`\n",
        "- Return the resulting value\n",
        "- Call (execute) your function with a new radius!\n",
        "\n",
        "> Equation of the circumference of a circle:\n",
        "$$C = 2πr$$"
      ]
    },
    {
      "cell_type": "code",
      "metadata": {
        "id": "ZvknqSD8oryC",
        "colab_type": "code",
        "colab": {}
      },
      "source": [
        "# Add your Challenge code here!\n",
        "\n"
      ],
      "execution_count": 0,
      "outputs": []
    },
    {
      "cell_type": "markdown",
      "metadata": {
        "id": "vbVIGzFRJbxz",
        "colab_type": "text"
      },
      "source": [
        "## And there you have it — all of the base Python that you need to get rocking and rolling!\n",
        "- Be sure to keep practicing by changing things in this notebook and by spending 15-20 minutes on a different challenge daily — you'll be amazed at how quickly you'll improve!\n",
        "- Some great daily places to practice are [Practice Python](http://www.practicepython.org/) and [CodeWars](https://www.codewars.com/users/sign_in).\n",
        "\n",
        "## Take Home Challenge\n",
        "- If you want an additional practice challenge to work on here in the notebook, consider the following from PracticePython:\n",
        "  - Write a function that takes a list of numbers (for example, `a = [5, 10, 15, 20, 25]`) and makes a new list of only the first and last elements of the given list.\n",
        "  - We'll start the code for you below:"
      ]
    },
    {
      "cell_type": "code",
      "metadata": {
        "id": "ELAQwh5hiKqY",
        "colab_type": "code",
        "colab": {}
      },
      "source": [
        "def list_ends(series):\n",
        "  # Your code goes here"
      ],
      "execution_count": 0,
      "outputs": []
    },
    {
      "cell_type": "markdown",
      "metadata": {
        "id": "qv9ER8innCJD",
        "colab_type": "text"
      },
      "source": [
        "# Keep Learning with Thinkful\n",
        "If you enjoyed today's session and want to take a deeper dive into many of the topics that we covered today like Pandas, SQL, predictive modeling, visualizing your data, and so much more, we'd love to have you join us again!\n",
        "- Check out more of our webinars at [Thinkful Webinars](https://www.thinkful.com/webinars/)\n",
        "- Learn more about the [Data Science Flex Course](https://www.thinkful.com/bootcamp/data-science/flexible/)"
      ]
    }
  ]
}